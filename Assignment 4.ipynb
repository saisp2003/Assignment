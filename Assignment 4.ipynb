{
 "cells": [
  {
   "cell_type": "markdown",
   "id": "7f539545",
   "metadata": {},
   "source": [
    "NUMPY"
   ]
  },
  {
   "cell_type": "code",
   "execution_count": 36,
   "id": "acb9600b",
   "metadata": {},
   "outputs": [
    {
     "name": "stdout",
     "output_type": "stream",
     "text": [
      "[1 2 3 4 5]\n"
     ]
    }
   ],
   "source": [
    "#Create a 1D array from a list\n",
    "\n",
    "import numpy as np\n",
    "\n",
    "arr = np.array([1, 2, 3, 4, 5])\n",
    "print(arr)"
   ]
  },
  {
   "cell_type": "code",
   "execution_count": 37,
   "id": "7d8ae605",
   "metadata": {},
   "outputs": [
    {
     "name": "stdout",
     "output_type": "stream",
     "text": [
      "[[0. 0. 0.]\n",
      " [0. 0. 0.]\n",
      " [0. 0. 0.]]\n"
     ]
    }
   ],
   "source": [
    "#Create a 3*3 array of zeros\n",
    "zeros_arr = np.zeros((3, 3))\n",
    "print(zeros_arr)"
   ]
  },
  {
   "cell_type": "code",
   "execution_count": 38,
   "id": "8afdd649",
   "metadata": {},
   "outputs": [
    {
     "name": "stdout",
     "output_type": "stream",
     "text": [
      "[[1. 1.]\n",
      " [1. 1.]]\n"
     ]
    }
   ],
   "source": [
    "#Create a 2*2 array of zeros\n",
    "\n",
    "arr=np.ones((2,2))\n",
    "\n",
    "print(arr)"
   ]
  },
  {
   "cell_type": "code",
   "execution_count": 39,
   "id": "8bbfb094",
   "metadata": {},
   "outputs": [
    {
     "data": {
      "text/plain": [
       "array([0, 1, 2, 3, 4, 5, 6, 7, 8, 9])"
      ]
     },
     "execution_count": 39,
     "metadata": {},
     "output_type": "execute_result"
    }
   ],
   "source": [
    "#Generate array from 0 to 10(exclusive)\n",
    "arr = np.arange(0, 10)\n",
    "\n",
    "arr"
   ]
  },
  {
   "cell_type": "code",
   "execution_count": 40,
   "id": "9e51e483",
   "metadata": {},
   "outputs": [
    {
     "name": "stdout",
     "output_type": "stream",
     "text": [
      "[0.   0.25 0.5  0.75 1.  ]\n"
     ]
    }
   ],
   "source": [
    "#Create 5 evenly spaced numbers between 0 and 1\n",
    "\n",
    "arr=np.linspace(0,1,5)\n",
    "\n",
    "print(arr)"
   ]
  },
  {
   "cell_type": "code",
   "execution_count": 41,
   "id": "df9a3d4d",
   "metadata": {},
   "outputs": [
    {
     "name": "stdout",
     "output_type": "stream",
     "text": [
      "[[1. 0. 0. 0.]\n",
      " [0. 1. 0. 0.]\n",
      " [0. 0. 1. 0.]\n",
      " [0. 0. 0. 1.]]\n"
     ]
    }
   ],
   "source": [
    "#Create a 4*4 identity matrix\n",
    "\n",
    "arr=np.eye(4)\n",
    "\n",
    "print(arr)"
   ]
  },
  {
   "cell_type": "code",
   "execution_count": 42,
   "id": "f31a3fca",
   "metadata": {},
   "outputs": [
    {
     "name": "stdout",
     "output_type": "stream",
     "text": [
      "[[1. 0. 0. 0. 0. 1. 0. 0.]\n",
      " [0. 0. 1. 0. 0. 0. 0. 1.]]\n"
     ]
    }
   ],
   "source": [
    "#Reshape 1D array to 2D \n",
    "arr = arr.reshape(2, 8)\n",
    "print(arr)\n",
    "\n"
   ]
  },
  {
   "cell_type": "code",
   "execution_count": 43,
   "id": "155e24c2",
   "metadata": {},
   "outputs": [
    {
     "name": "stdout",
     "output_type": "stream",
     "text": [
      "(5,)\n",
      "int64\n"
     ]
    }
   ],
   "source": [
    "# Get the shape and dtype of an array\n",
    "arr=np.array([1,2,3,4,5])\n",
    "print(arr.shape)\n",
    "print(arr.dtype)\n"
   ]
  },
  {
   "cell_type": "code",
   "execution_count": 44,
   "id": "c12f1ca6",
   "metadata": {},
   "outputs": [
    {
     "name": "stdout",
     "output_type": "stream",
     "text": [
      "[5 4 3 2 1]\n"
     ]
    }
   ],
   "source": [
    "#Reverse a numpy array\n",
    "reversed_arr = arr[::-1]\n",
    "print(reversed_arr)\n",
    "\n"
   ]
  },
  {
   "cell_type": "code",
   "execution_count": 45,
   "id": "e7e6b124",
   "metadata": {},
   "outputs": [
    {
     "name": "stdout",
     "output_type": "stream",
     "text": [
      "[2 4]\n"
     ]
    }
   ],
   "source": [
    "#Extract even numbers from an array\n",
    "\n",
    "even_numbers = arr[arr % 2 == 0]\n",
    "print(even_numbers)\n",
    "\n"
   ]
  },
  {
   "cell_type": "code",
   "execution_count": 46,
   "id": "f6e8cd20",
   "metadata": {},
   "outputs": [
    {
     "data": {
      "text/plain": [
       "np.int64(5)"
      ]
     },
     "execution_count": 46,
     "metadata": {},
     "output_type": "execute_result"
    }
   ],
   "source": [
    "#Find the max in each row\n",
    "\n",
    "arr.max(axis=0)"
   ]
  },
  {
   "cell_type": "code",
   "execution_count": 47,
   "id": "16af59bb",
   "metadata": {},
   "outputs": [
    {
     "name": "stdout",
     "output_type": "stream",
     "text": [
      "3.0\n",
      "3.0\n",
      "1.4142135623730951\n"
     ]
    }
   ],
   "source": [
    "#Compute the mean,std and median of an array\n",
    "\n",
    "print(arr.mean())\n",
    "\n",
    "print(np.median(arr))\n",
    "\n",
    "print(np.std(arr))"
   ]
  },
  {
   "cell_type": "code",
   "execution_count": 48,
   "id": "c602c351",
   "metadata": {},
   "outputs": [
    {
     "data": {
      "text/plain": [
       "array([[0, 1, 2],\n",
       "       [1, 2, 0],\n",
       "       [3, 4, 5],\n",
       "       [5, 4, 3]])"
      ]
     },
     "execution_count": 48,
     "metadata": {},
     "output_type": "execute_result"
    }
   ],
   "source": [
    "#Stack two arrays vertically\n",
    "\n",
    "\n",
    "arr1=np.array([(0,1,2),(1,2,0)])\n",
    "\n",
    "arr2=np.array([(3,4,5,),(5,4,3)])\n",
    "\n",
    "np.concatenate((arr1,arr2),axis=0)\n"
   ]
  },
  {
   "cell_type": "code",
   "execution_count": 49,
   "id": "54b369bc",
   "metadata": {},
   "outputs": [
    {
     "data": {
      "text/plain": [
       "array([[0, 1, 2, 3, 4, 5],\n",
       "       [1, 2, 0, 5, 4, 3]])"
      ]
     },
     "execution_count": 49,
     "metadata": {},
     "output_type": "execute_result"
    }
   ],
   "source": [
    "#Stack two arrays horizontally\n",
    "\n",
    "\n",
    "arr1=np.array([(0,1,2),(1,2,0)])\n",
    "\n",
    "arr2=np.array([(3,4,5,),(5,4,3)])\n",
    "\n",
    "np.concatenate((arr1,arr2),axis=1)\n"
   ]
  },
  {
   "cell_type": "code",
   "execution_count": 50,
   "id": "56d57ce7",
   "metadata": {},
   "outputs": [
    {
     "name": "stdout",
     "output_type": "stream",
     "text": [
      "Unique values: [1 2 3 4 5]\n",
      "Counts: [1 1 1 1 1]\n"
     ]
    }
   ],
   "source": [
    "#Find the unique values and their counts\n",
    "\n",
    "unique_values, counts = np.unique(arr, return_counts=True)\n",
    "print(\"Unique values:\", unique_values)\n",
    "print(\"Counts:\", counts)"
   ]
  },
  {
   "cell_type": "code",
   "execution_count": 51,
   "id": "d7313368",
   "metadata": {},
   "outputs": [],
   "source": [
    "#Replace NaN with column means"
   ]
  },
  {
   "cell_type": "code",
   "execution_count": 52,
   "id": "4c6365c5",
   "metadata": {},
   "outputs": [
    {
     "name": "stdout",
     "output_type": "stream",
     "text": [
      "Index of min value: 0\n",
      "Index of max value: 4\n"
     ]
    }
   ],
   "source": [
    "#Get index of min and max values\n",
    "min_index = arr.argmin()\n",
    "max_index = arr.argmax()\n",
    "print(\"Index of min value:\", min_index)\n",
    "print(\"Index of max value:\", max_index)\n",
    "\n"
   ]
  },
  {
   "cell_type": "code",
   "execution_count": 53,
   "id": "c4da9453",
   "metadata": {},
   "outputs": [
    {
     "name": "stdout",
     "output_type": "stream",
     "text": [
      "[[[9 8 9 1]\n",
      "  [2 7 0 5]\n",
      "  [1 1 2 4]]\n",
      "\n",
      " [[0 4 6 7]\n",
      "  [3 1 0 9]\n",
      "  [8 5 1 1]]]\n"
     ]
    }
   ],
   "source": [
    "#Create a 3D array of random integers\n",
    "arr_3d = np.random.randint(0, 10, size=(2, 3, 4))\n",
    "print(arr_3d)"
   ]
  },
  {
   "cell_type": "code",
   "execution_count": 54,
   "id": "9be06e52",
   "metadata": {},
   "outputs": [
    {
     "name": "stdout",
     "output_type": "stream",
     "text": [
      "[ 1 -1  3 -1  5]\n"
     ]
    }
   ],
   "source": [
    "#Use np.where() to replace values\n",
    "\n",
    "\n",
    "replaced_arr = np.where(arr % 2 == 0, -1, arr)\n",
    "print(replaced_arr)"
   ]
  },
  {
   "cell_type": "markdown",
   "id": "8f8bf4ed",
   "metadata": {},
   "source": [
    "PANDAS"
   ]
  },
  {
   "cell_type": "code",
   "execution_count": 55,
   "id": "754330a9",
   "metadata": {},
   "outputs": [
    {
     "name": "stdout",
     "output_type": "stream",
     "text": [
      "0    1\n",
      "1    2\n",
      "2    3\n",
      "3    4\n",
      "4    5\n",
      "dtype: int64\n"
     ]
    }
   ],
   "source": [
    "#Create a series using python list\n",
    "\n",
    "import pandas as pd\n",
    "\n",
    "series = pd.Series([1, 2, 3, 4, 5])\n",
    "print(series)"
   ]
  },
  {
   "cell_type": "code",
   "execution_count": 56,
   "id": "57739a8e",
   "metadata": {},
   "outputs": [
    {
     "name": "stdout",
     "output_type": "stream",
     "text": [
      "a    10\n",
      "b    20\n",
      "c    30\n",
      "d    40\n",
      "dtype: int64\n"
     ]
    }
   ],
   "source": [
    "#Create a series using custom string indices\n",
    "\n",
    "series_custom_index = pd.Series([10, 20, 30, 40], index=['a', 'b', 'c', 'd'])\n",
    "print(series_custom_index)"
   ]
  },
  {
   "cell_type": "code",
   "execution_count": 57,
   "id": "66adeba8",
   "metadata": {},
   "outputs": [
    {
     "name": "stdout",
     "output_type": "stream",
     "text": [
      "a    100\n",
      "b    200\n",
      "c    300\n",
      "dtype: int64\n"
     ]
    }
   ],
   "source": [
    "#Create a series from a dictionary\n",
    "data_dict = {'a': 100, 'b': 200, 'c': 300}\n",
    "series_from_dict = pd.Series(data_dict)\n",
    "print(series_from_dict)"
   ]
  },
  {
   "cell_type": "code",
   "execution_count": 58,
   "id": "645b3002",
   "metadata": {},
   "outputs": [
    {
     "name": "stdout",
     "output_type": "stream",
     "text": [
      "0    1\n",
      "1    2\n",
      "2    3\n",
      "dtype: int64\n"
     ]
    }
   ],
   "source": [
    "#Access first 3 elements of a series\n",
    "print(series[:3])\n"
   ]
  },
  {
   "cell_type": "code",
   "execution_count": 59,
   "id": "d96e24dd",
   "metadata": {},
   "outputs": [
    {
     "name": "stdout",
     "output_type": "stream",
     "text": [
      "a    100\n",
      "b    200\n",
      "c    300\n",
      "dtype: int64\n"
     ]
    }
   ],
   "source": [
    "#Filter series elements greater than 50\n",
    "filtered_series = series_from_dict[series_from_dict > 50]\n",
    "print(filtered_series)"
   ]
  },
  {
   "cell_type": "code",
   "execution_count": 60,
   "id": "6e75f9de",
   "metadata": {},
   "outputs": [
    {
     "name": "stdout",
     "output_type": "stream",
     "text": [
      "a    110.0\n",
      "b    220.0\n",
      "c    330.0\n",
      "d      NaN\n",
      "dtype: float64\n"
     ]
    }
   ],
   "source": [
    "#Add two series with different indices\n",
    "\n",
    "result = series_custom_index + series_from_dict\n",
    "print(result)"
   ]
  },
  {
   "cell_type": "code",
   "execution_count": 61,
   "id": "9bac5056",
   "metadata": {},
   "outputs": [
    {
     "name": "stdout",
     "output_type": "stream",
     "text": [
      "0    10\n",
      "1    20\n",
      "2    30\n",
      "3    40\n",
      "4    50\n",
      "dtype: int64\n"
     ]
    }
   ],
   "source": [
    "#Multiply a series by scalar\n",
    "\n",
    "multiplied_series = series * 10\n",
    "print(multiplied_series)\n",
    "\n"
   ]
  },
  {
   "cell_type": "code",
   "execution_count": 62,
   "id": "91140985",
   "metadata": {},
   "outputs": [
    {
     "name": "stdout",
     "output_type": "stream",
     "text": [
      "[11 22 33 44 55]\n"
     ]
    }
   ],
   "source": [
    "#use multiply () method to multiply with scalar\n",
    "\n",
    "result=np.multiply(arr,11)\n",
    "\n",
    "print(result)"
   ]
  },
  {
   "cell_type": "code",
   "execution_count": 63,
   "id": "c9c12b7b",
   "metadata": {},
   "outputs": [
    {
     "name": "stdout",
     "output_type": "stream",
     "text": [
      "c    300\n",
      "b    200\n",
      "a    100\n",
      "dtype: int64\n"
     ]
    }
   ],
   "source": [
    "#Sort series by value descending\n",
    "sorted_series = series_from_dict.sort_values(ascending=False)\n",
    "print(sorted_series)"
   ]
  },
  {
   "cell_type": "code",
   "execution_count": 64,
   "id": "a26822df",
   "metadata": {},
   "outputs": [
    {
     "name": "stdout",
     "output_type": "stream",
     "text": [
      "a    100\n",
      "b    200\n",
      "c    300\n",
      "dtype: int64\n"
     ]
    }
   ],
   "source": [
    "#Sort series by index\n",
    "sorted_by_index=series_from_dict.sort_index()\n",
    "\n",
    "print(sorted_by_index)\n"
   ]
  },
  {
   "cell_type": "code",
   "execution_count": 65,
   "id": "2bc638d7",
   "metadata": {},
   "outputs": [
    {
     "name": "stdout",
     "output_type": "stream",
     "text": [
      "0    False\n",
      "1    False\n",
      "2    False\n",
      "3    False\n",
      "4    False\n",
      "dtype: bool\n",
      "a    False\n",
      "b    False\n",
      "c    False\n",
      "dtype: bool\n"
     ]
    }
   ],
   "source": [
    "#Check for null values\n",
    "print(series.isnull())\n",
    "print(series_from_dict.isnull())"
   ]
  },
  {
   "cell_type": "code",
   "execution_count": 66,
   "id": "316dc15f",
   "metadata": {},
   "outputs": [
    {
     "name": "stdout",
     "output_type": "stream",
     "text": [
      "0     1\n",
      "1     2\n",
      "2     3\n",
      "3     4\n",
      "4     5\n",
      "a    10\n",
      "b    20\n",
      "c    30\n",
      "d    40\n",
      "dtype: int64\n"
     ]
    }
   ],
   "source": [
    "#Concatenate two series using concat()\n",
    "\n",
    "concatenated_series = pd.concat([series, series_custom_index])\n",
    "print(concatenated_series)\n"
   ]
  },
  {
   "cell_type": "code",
   "execution_count": 70,
   "id": "194bffb5",
   "metadata": {},
   "outputs": [
    {
     "ename": "AttributeError",
     "evalue": "'Series' object has no attribute 'append'",
     "output_type": "error",
     "traceback": [
      "\u001b[31m---------------------------------------------------------------------------\u001b[39m",
      "\u001b[31mAttributeError\u001b[39m                            Traceback (most recent call last)",
      "\u001b[32m~\\AppData\\Local\\Temp\\ipykernel_11908\\491598857.py\u001b[39m in \u001b[36m?\u001b[39m\u001b[34m()\u001b[39m\n\u001b[32m      1\u001b[39m \u001b[38;5;66;03m#Concatenate two series using append()\u001b[39;00m\n\u001b[32m      2\u001b[39m \n\u001b[32m----> \u001b[39m\u001b[32m3\u001b[39m append=series.append(series_custom_index)\n\u001b[32m      4\u001b[39m \n\u001b[32m      5\u001b[39m print(append)\n",
      "\u001b[32mc:\\Users\\Sai Sidhartha Padhy\\AppData\\Local\\Programs\\Python\\Python311\\Lib\\site-packages\\pandas\\core\\generic.py\u001b[39m in \u001b[36m?\u001b[39m\u001b[34m(self, name)\u001b[39m\n\u001b[32m   6295\u001b[39m             \u001b[38;5;28;01mand\u001b[39;00m name \u001b[38;5;28;01mnot\u001b[39;00m \u001b[38;5;28;01min\u001b[39;00m self._accessors\n\u001b[32m   6296\u001b[39m             \u001b[38;5;28;01mand\u001b[39;00m self._info_axis._can_hold_identifiers_and_holds_name(name)\n\u001b[32m   6297\u001b[39m         ):\n\u001b[32m   6298\u001b[39m             \u001b[38;5;28;01mreturn\u001b[39;00m self[name]\n\u001b[32m-> \u001b[39m\u001b[32m6299\u001b[39m         \u001b[38;5;28;01mreturn\u001b[39;00m object.__getattribute__(self, name)\n",
      "\u001b[31mAttributeError\u001b[39m: 'Series' object has no attribute 'append'"
     ]
    }
   ],
   "source": [
    "#Concatenate two series using append()\n",
    "\n",
    "append=series.append(series_custom_index)\n",
    "\n",
    "print(append)"
   ]
  },
  {
   "cell_type": "code",
   "execution_count": 71,
   "id": "62543ceb",
   "metadata": {},
   "outputs": [
    {
     "name": "stdout",
     "output_type": "stream",
     "text": [
      "0    1\n",
      "1    2\n",
      "2    3\n",
      "3    4\n",
      "4    5\n",
      "dtype: int64\n"
     ]
    }
   ],
   "source": [
    "#Retrive first 5 elements using .head()\n",
    "print(concatenated_series.head())\n"
   ]
  },
  {
   "cell_type": "code",
   "execution_count": 72,
   "id": "f71c9ff6",
   "metadata": {},
   "outputs": [
    {
     "name": "stdout",
     "output_type": "stream",
     "text": [
      "4     5\n",
      "a    10\n",
      "b    20\n",
      "c    30\n",
      "d    40\n",
      "dtype: int64\n"
     ]
    }
   ],
   "source": [
    "#Retrive last 5 elements using .tail()\n",
    "\n",
    "print(concatenated_series.tail())"
   ]
  },
  {
   "cell_type": "code",
   "execution_count": 73,
   "id": "ed1a07ac",
   "metadata": {},
   "outputs": [
    {
     "name": "stdout",
     "output_type": "stream",
     "text": [
      "   values\n",
      "0       1\n",
      "1       2\n",
      "2       3\n",
      "3       4\n",
      "4       5\n",
      "a      10\n",
      "b      20\n",
      "c      30\n",
      "d      40\n"
     ]
    }
   ],
   "source": [
    "#Convert series to dataframe\n",
    "\n",
    "df_from_series = concatenated_series.to_frame(name='values')\n",
    "print(df_from_series)\n"
   ]
  },
  {
   "cell_type": "code",
   "execution_count": 78,
   "id": "d6e9f21f",
   "metadata": {},
   "outputs": [
    {
     "name": "stdout",
     "output_type": "stream",
     "text": [
      "         Day  Temperature  Windspeed   Event\n",
      "0 2025-01-01         32.0       45.0   Rainy\n",
      "1 2025-01-02          0.0       23.0       0\n",
      "2 2025-01-03         27.0       54.0  Cloudy\n",
      "3 2025-01-04         23.0       56.0   Sunny\n",
      "4 2025-01-05          0.0        0.0       0\n",
      "5 2025-01-06          0.0       56.0   Sunny\n",
      "6 2025-01-07         19.0       23.0  Cloudy\n",
      "7 2025-01-08          0.0       78.0   Sunny\n",
      "8 2025-01-09          0.0       45.0       0\n"
     ]
    }
   ],
   "source": [
    "#Replace NaN with zero\n",
    "\n",
    "df=pd.read_excel('2.xlsx',sheet_name='Sheet1')\n",
    "\n",
    "df\n",
    "\n",
    "new_df1=df.fillna(00)\n",
    "\n",
    "print(new_df1)"
   ]
  },
  {
   "cell_type": "code",
   "execution_count": 79,
   "id": "9dcbcbd1",
   "metadata": {},
   "outputs": [
    {
     "name": "stdout",
     "output_type": "stream",
     "text": [
      "         Day  Temperature  Windspeed   Event\n",
      "0 2025-01-01         32.0       45.0   Rainy\n",
      "2 2025-01-03         27.0       54.0  Cloudy\n",
      "3 2025-01-04         23.0       56.0   Sunny\n",
      "5 2025-01-06          0.0       56.0   Sunny\n",
      "6 2025-01-07         19.0       23.0  Cloudy\n"
     ]
    }
   ],
   "source": [
    "#Drop Missing Values\n",
    "df_dropped = df.dropna()\n",
    "print(df_dropped)"
   ]
  },
  {
   "cell_type": "code",
   "execution_count": 80,
   "id": "9f36e5b0",
   "metadata": {},
   "outputs": [
    {
     "name": "stdout",
     "output_type": "stream",
     "text": [
      "int64\n"
     ]
    }
   ],
   "source": [
    "print(concatenated_series.dtype)"
   ]
  }
 ],
 "metadata": {
  "kernelspec": {
   "display_name": "Python 3",
   "language": "python",
   "name": "python3"
  },
  "language_info": {
   "codemirror_mode": {
    "name": "ipython",
    "version": 3
   },
   "file_extension": ".py",
   "mimetype": "text/x-python",
   "name": "python",
   "nbconvert_exporter": "python",
   "pygments_lexer": "ipython3",
   "version": "3.11.4"
  }
 },
 "nbformat": 4,
 "nbformat_minor": 5
}
